{
 "cells": [
  {
   "cell_type": "markdown",
   "metadata": {},
   "source": [
    "## Task 1"
   ]
  },
  {
   "cell_type": "code",
   "execution_count": 1,
   "metadata": {},
   "outputs": [],
   "source": [
    "import csv\n",
    "import pandas as pd\n",
    "from collections import defaultdict\n",
    "\n",
    "def getdict():\n",
    "    d = defaultdict(lambda: \"NA\")\n",
    "    input_file = open(\"data_description.txt\")\n",
    "    for line in input_file:\n",
    "        information = line.split('\\t')\n",
    "        # get rid of the information-less tuples\n",
    "        if len(information) < 2 or information[0].strip().startswith('\\n') or len(information[0])==0 or not information[0].startswith(' '):\n",
    "            continue\n",
    "        # build the dictionary from the tuples with data cleaning\n",
    "        term = information[0].strip()\n",
    "        desri = information[1].strip()\n",
    "        d[term] = desri\n",
    "    return d\n",
    "\n",
    "term_dictionary = getdict()\n",
    "\n",
    "# write dictionary to csv file\n",
    "# output: two column data dictionary csv file\n",
    "def write_dict_to_csv():\n",
    "    with open('output/term_dict.csv', 'w') as f:\n",
    "        f.write('Abbreviation,Description\\n')\n",
    "        for key in term_dictionary.keys():\n",
    "            f.write(\"%s,%s\\n\" % (key, term_dictionary[key]))\n",
    "            \n",
    "write_dict_to_csv()"
   ]
  },
  {
   "cell_type": "markdown",
   "metadata": {},
   "source": [
    "## Task 2"
   ]
  },
  {
   "cell_type": "code",
   "execution_count": 2,
   "metadata": {},
   "outputs": [],
   "source": [
    "import bonobo\n",
    "from bonobo.config import use_context_processor\n",
    "\n",
    "\n",
    "def extract():\n",
    "    yield from data.itertuples()\n",
    "\n",
    "\n",
    "# map the terms(e.g. LandSlope) to full-term in dictionary\n",
    "def transform(*args):\n",
    "    # get the index for the columns that you want to look up\n",
    "    args = list(args)\n",
    "\n",
    "    # filter out the rows (yearbuilt < 1980)\n",
    "    idx0 = category_dict['YearBuilt'] + 1\n",
    "    if int(args[idx0]) < 1980:\n",
    "        return None\n",
    "\n",
    "    # TODO: you need to replace two or three abbreviations\n",
    "    # plus 1 because the first element of args is the system idx\n",
    "    idx1 = category_dict['LandSlope'] + 1\n",
    "    idx2 = category_dict['LotShape'] + 1\n",
    "    idx3 = category_dict['LandContour'] +1\n",
    "    \n",
    "    # replace the tuple values\n",
    "    args[idx1] = term_dictionary[args[idx1]]\n",
    "    args[idx2] = term_dictionary[args[idx2]]\n",
    "    args[idx3] = term_dictionary[args[idx3]]\n",
    "    return args[1:]\n"
   ]
  },
  {
   "cell_type": "code",
   "execution_count": 3,
   "metadata": {},
   "outputs": [],
   "source": [
    "# function for writing to the files\n",
    "def with_opened_file1(self, context):\n",
    "    with open('output/output_lotinfo.csv', 'w+') as f1:\n",
    "        wr1 = csv.writer(f1, delimiter=',')\n",
    "        yield wr1\n",
    "        \n",
    "def with_opened_file2(self, context):       \n",
    "    with open('output/output_homeinfo.csv', 'w+') as f2:\n",
    "        wr2 = csv.writer(f2, delimiter=',')\n",
    "        yield wr2\n",
    "        \n",
    "def with_opened_file3(self, context):\n",
    "    with open('output/output_salesinfo.csv', 'w+') as f3:\n",
    "        wr3 = csv.writer(f3, delimiter=',')\n",
    "        yield wr3"
   ]
  },
  {
   "cell_type": "code",
   "execution_count": 4,
   "metadata": {},
   "outputs": [],
   "source": [
    "# decorator is used here: every time we open the file, and append row to the existing rows, instead of overwriting it\n",
    "@use_context_processor(with_opened_file1)\n",
    "def write_repr_to_file1(wr1, *row):\n",
    "    global first_line_written\n",
    "    # uncomment to see why I need to replace \"[\" and \"]\"\n",
    "    # f.write(repr(row))\n",
    "    if row is None:\n",
    "        return\n",
    "\n",
    "    if not first_line_written:\n",
    "        wr1.writerow([category_list[a] for a in lotinfo_idx])\n",
    "        \n",
    "    tuples_lotinfo = [row[0][a] for a in lotinfo_idx]\n",
    "    wr1.writerow(tuples_lotinfo)\n",
    "\n",
    "    first_line_written = True\n",
    "    \n",
    "@use_context_processor(with_opened_file2)\n",
    "def write_repr_to_file2(wr2, *row):\n",
    "    global first_line_written\n",
    "    # uncomment to see why I need to replace \"[\" and \"]\"\n",
    "    # f.write(repr(row))\n",
    "    if row is None:\n",
    "        return\n",
    "\n",
    "    if not first_line_written:\n",
    "        wr2.writerow([category_list[a] for a in homeinfo_idx])\n",
    "        \n",
    "    tuples_homeinfo = [row[0][a] for a in homeinfo_idx]\n",
    "    wr2.writerow(tuples_homeinfo)\n",
    "    \n",
    "    first_line_written = True\n",
    "    \n",
    "\n",
    "@use_context_processor(with_opened_file3)\n",
    "def write_repr_to_file3(wr3, *row):\n",
    "    global first_line_written\n",
    "    # uncomment to see why I need to replace \"[\" and \"]\"\n",
    "    # f.write(repr(row))\n",
    "    if row is None:\n",
    "        return\n",
    "\n",
    "    if not first_line_written:\n",
    "        wr3.writerow([category_list[a] for a in salesinfo_idx])\n",
    "        \n",
    "    tuples_salesinfo = [row[0][a] for a in salesinfo_idx]\n",
    "    wr3.writerow(tuples_salesinfo)    \n",
    "    \n",
    "    first_line_written = True\n",
    "    "
   ]
  },
  {
   "cell_type": "code",
   "execution_count": 6,
   "metadata": {},
   "outputs": [
    {
     "name": "stdout",
     "output_type": "stream",
     "text": [
      "defaultdict(None, {'Id': 0, 'MSSubClass': 1, 'MSZoning': 2, 'LotFrontage': 3, 'LotArea': 4, 'Street': 5, 'Alley': 6, 'LotShape': 7, 'LandContour': 8, 'Utilities': 9, 'LotConfig': 10, 'LandSlope': 11, 'Neighborhood': 12, 'Condition1': 13, 'Condition2': 14, 'BldgType': 15, 'HouseStyle': 16, 'OverallQual': 17, 'OverallCond': 18, 'YearBuilt': 19, 'YearRemodAdd': 20, 'RoofStyle': 21, 'RoofMatl': 22, 'Exterior1st': 23, 'Exterior2nd': 24, 'MasVnrType': 25, 'MasVnrArea': 26, 'ExterQual': 27, 'ExterCond': 28, 'Foundation': 29, 'BsmtQual': 30, 'BsmtCond': 31, 'BsmtExposure': 32, 'BsmtFinType1': 33, 'BsmtFinSF1': 34, 'BsmtFinType2': 35, 'BsmtFinSF2': 36, 'BsmtUnfSF': 37, 'TotalBsmtSF': 38, 'Heating': 39, 'HeatingQC': 40, 'CentralAir': 41, 'Electrical': 42, '1stFlrSF': 43, '2ndFlrSF': 44, 'LowQualFinSF': 45, 'GrLivArea': 46, 'BsmtFullBath': 47, 'BsmtHalfBath': 48, 'FullBath': 49, 'HalfBath': 50, 'BedroomAbvGr': 51, 'KitchenAbvGr': 52, 'KitchenQual': 53, 'TotRmsAbvGrd': 54, 'Functional': 55, 'Fireplaces': 56, 'FireplaceQu': 57, 'GarageType': 58, 'GarageYrBlt': 59, 'GarageFinish': 60, 'GarageCars': 61, 'GarageArea': 62, 'GarageQual': 63, 'GarageCond': 64, 'PavedDrive': 65, 'WoodDeckSF': 66, 'OpenPorchSF': 67, 'EnclosedPorch': 68, '3SsnPorch': 69, 'ScreenPorch': 70, 'PoolArea': 71, 'PoolQC': 72, 'Fence': 73, 'MiscFeature': 74, 'MiscVal': 75, 'MoSold': 76, 'YrSold': 77, 'SaleType': 78, 'SaleCondition': 79, 'SalePrice': 80})\n"
     ]
    },
    {
     "data": {
      "application/vnd.jupyter.widget-view+json": {
       "model_id": "ec80685099d14dd28049dc7673c860fe",
       "version_major": 2,
       "version_minor": 0
      },
      "text/plain": [
       "BonoboWidget()"
      ]
     },
     "metadata": {},
     "output_type": "display_data"
    },
    {
     "data": {
      "application/vnd.jupyter.widget-view+json": {
       "model_id": "b54ceed4ecd1466a8aecea5946473f44",
       "version_major": 2,
       "version_minor": 0
      },
      "text/plain": [
       "BonoboWidget()"
      ]
     },
     "metadata": {},
     "output_type": "display_data"
    },
    {
     "data": {
      "application/vnd.jupyter.widget-view+json": {
       "model_id": "a979122671cc45778cbd217161910da3",
       "version_major": 2,
       "version_minor": 0
      },
      "text/plain": [
       "BonoboWidget()"
      ]
     },
     "metadata": {},
     "output_type": "display_data"
    },
    {
     "data": {
      "text/plain": [
       "<bonobo.execution.contexts.graph.GraphExecutionContext at 0x7f94e1282cf8>"
      ]
     },
     "execution_count": 6,
     "metadata": {},
     "output_type": "execute_result"
    }
   ],
   "source": [
    "first_line_written = False\n",
    "\n",
    "# prepare for the data\n",
    "data = pd.read_csv('train.csv', encoding='ISO-8859-1')\n",
    "\n",
    "# construct category dictionary (map the category to index)\n",
    "category_dict = defaultdict()\n",
    "category_list = data.columns.tolist()\n",
    "for i in range(len(category_list)):\n",
    "    category_dict[category_list[i]] = i\n",
    "print(category_dict)\n",
    "\n",
    "\n",
    "# divide the table into 3 sub-tables\n",
    "# TODO: The index needs to be changed according to the requirements\n",
    "lotinfo_idx = [0,3,4,5,6,7,8,9,10,11]\n",
    "homeinfo_idx = [0,15,16,17,18,19,20,21,22,23,24,25,26,27,28,\n",
    "                    29,30,31,32,33,34,35,36,37,38,39,40,41,42,43,44,\n",
    "                    45,46,47,48,49,50,51,52,53,54,55,56,57,58,59,60,\n",
    "                    61,62,63,64,65,66,67,68,69,70,71,72,73,74]\n",
    "salesinfo_idx = [0,75,76,77,78,79,80]\n",
    "# build Bonobo pipeline\n",
    "graph1 = bonobo.Graph()\n",
    "graph1.add_chain(\n",
    "    extract,\n",
    "    # the transform step will replace the abbr. with its full description\n",
    "    transform,\n",
    "    bonobo.Limit(100),\n",
    "    write_repr_to_file1,\n",
    ")\n",
    "bonobo.run(graph1)\n",
    "\n",
    "first_line_written = False\n",
    "\n",
    "graph2 = bonobo.Graph()\n",
    "graph2.add_chain(\n",
    "    extract,\n",
    "    # the transform step will replace the abbr. with its full description\n",
    "    transform,\n",
    "    bonobo.Limit(100),\n",
    "    write_repr_to_file2,\n",
    ")\n",
    "bonobo.run(graph2)\n",
    "\n",
    "first_line_written = False\n",
    "\n",
    "graph3 = bonobo.Graph()\n",
    "graph3.add_chain(\n",
    "    extract,\n",
    "    # the transform step will replace the abbr. with its full description\n",
    "    transform,\n",
    "    bonobo.Limit(100),\n",
    "    write_repr_to_file3,\n",
    ")\n",
    "bonobo.run(graph3)\n"
   ]
  },
  {
   "cell_type": "code",
   "execution_count": null,
   "metadata": {},
   "outputs": [],
   "source": []
  },
  {
   "cell_type": "code",
   "execution_count": null,
   "metadata": {},
   "outputs": [],
   "source": []
  }
 ],
 "metadata": {
  "kernelspec": {
   "display_name": "Python 3",
   "language": "python",
   "name": "python3"
  },
  "language_info": {
   "codemirror_mode": {
    "name": "ipython",
    "version": 3
   },
   "file_extension": ".py",
   "mimetype": "text/x-python",
   "name": "python",
   "nbconvert_exporter": "python",
   "pygments_lexer": "ipython3",
   "version": "3.6.9"
  }
 },
 "nbformat": 4,
 "nbformat_minor": 4
}
